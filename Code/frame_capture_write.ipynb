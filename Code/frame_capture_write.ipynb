{
 "cells": [
  {
   "cell_type": "code",
   "execution_count": 1,
   "metadata": {},
   "outputs": [],
   "source": [
    "import cv2\n",
    "\n",
    "def write_frames(vidcap, out, fps, second):\n",
    "    success = True\n",
    "    counter = 0\n",
    "    while success:\n",
    "        success, frame = vidcap.read()\n",
    "        if counter % (second * fps) == 0:\n",
    "            out.write(frame)\n",
    "        counter += 1"
   ]
  },
  {
   "cell_type": "code",
   "execution_count": 5,
   "metadata": {},
   "outputs": [],
   "source": [
    "for file in ['20201017_0100.mp4','20201017_0300.mp4','20201017_0500.mp4','20201017_0700.mp4']:\n",
    "    vidcap = cv2.VideoCapture(file)\n",
    "    fps = int(vidcap.get(cv2.CAP_PROP_FPS))\n",
    "    frame_width = int(vidcap.get(3))\n",
    "    frame_height = int(vidcap.get(4))\n",
    "\n",
    "    # extract 1 frame every ~19s, 2fps out\n",
    "    out = cv2.VideoWriter(file.strip('mp4')+'avi',cv2.VideoWriter_fourcc('M','J','P','G'), 2, (frame_width,frame_height))\n",
    "    write_frames(vidcap, out, fps, 20)\n",
    "\n",
    "    vidcap.release()\n",
    "    out.release()\n",
    "    cv2.destroyAllWindows()"
   ]
  },
  {
   "cell_type": "code",
   "execution_count": null,
   "metadata": {},
   "outputs": [],
   "source": []
  }
 ],
 "metadata": {
  "kernelspec": {
   "display_name": "Python 3",
   "language": "python",
   "name": "python3"
  },
  "language_info": {
   "codemirror_mode": {
    "name": "ipython",
    "version": 3
   },
   "file_extension": ".py",
   "mimetype": "text/x-python",
   "name": "python",
   "nbconvert_exporter": "python",
   "pygments_lexer": "ipython3",
   "version": "3.7.6"
  },
  "toc": {
   "base_numbering": 1,
   "nav_menu": {},
   "number_sections": true,
   "sideBar": true,
   "skip_h1_title": false,
   "title_cell": "Table of Contents",
   "title_sidebar": "Contents",
   "toc_cell": false,
   "toc_position": {},
   "toc_section_display": true,
   "toc_window_display": false
  }
 },
 "nbformat": 4,
 "nbformat_minor": 4
}
